{
  "nbformat": 4,
  "nbformat_minor": 0,
  "metadata": {
    "colab": {
      "provenance": [],
      "gpuType": "T4"
    },
    "kernelspec": {
      "name": "python3",
      "display_name": "Python 3"
    },
    "language_info": {
      "name": "python"
    },
    "accelerator": "GPU"
  },
  "cells": [
    {
      "cell_type": "code",
      "execution_count": null,
      "metadata": {
        "id": "YQ2jLBDdA8Mr"
      },
      "outputs": [],
      "source": [
        "import yfinance as yf\n",
        "import numpy as np\n",
        "import pandas as pd\n",
        "import matplotlib.pyplot as plt\n",
        "from sklearn.preprocessing import MinMaxScaler\n",
        "import torch\n",
        "import torch.nn as nn\n",
        "from sklearn.metrics import mean_squared_error"
      ]
    },
    {
      "cell_type": "code",
      "source": [
        "device = torch.device(\"cuda\" if torch.cuda.is_available() else \"cpu\")"
      ],
      "metadata": {
        "id": "NORQG16CGE-N"
      },
      "execution_count": null,
      "outputs": []
    },
    {
      "cell_type": "code",
      "source": [
        "df = yf.download('GOOG', start='2010-01-01', end='2024-09-01')\n",
        "\n",
        "data = df[['Close']].values"
      ],
      "metadata": {
        "colab": {
          "base_uri": "https://localhost:8080/"
        },
        "id": "P7ohyEnkBAik",
        "outputId": "eefad3f7-eb42-49d4-d789-6687ee8cc60d"
      },
      "execution_count": null,
      "outputs": [
        {
          "output_type": "stream",
          "name": "stderr",
          "text": [
            "\r[*********************100%***********************]  1 of 1 completed\n"
          ]
        }
      ]
    },
    {
      "cell_type": "code",
      "source": [
        "scaler = MinMaxScaler(feature_range=(0, 1))\n",
        "scaled_data = scaler.fit_transform(data)\n"
      ],
      "metadata": {
        "id": "SWf2HrxgBI3q"
      },
      "execution_count": null,
      "outputs": []
    },
    {
      "cell_type": "code",
      "source": [
        "train_size = int(len(scaled_data) * 0.8)\n",
        "val_size = int(len(scaled_data) * 0.10)\n",
        "test_size = len(scaled_data) - train_size - val_size\n",
        "\n",
        "train_data = scaled_data[:train_size]\n",
        "val_data = scaled_data[train_size:train_size + val_size]\n",
        "test_data = scaled_data[train_size + val_size:]\n",
        "print(\"Train data shape:\", train_data.shape)\n",
        "print(\"Validation data shape:\", val_data.shape)\n",
        "print(\"Test data shape:\", test_data.shape)\n"
      ],
      "metadata": {
        "id": "xa9RWK1iBMp6",
        "colab": {
          "base_uri": "https://localhost:8080/"
        },
        "outputId": "4469ecda-f666-4e1e-b7da-33fd15b5fb92"
      },
      "execution_count": null,
      "outputs": [
        {
          "output_type": "stream",
          "name": "stdout",
          "text": [
            "Train data shape: (2952, 1)\n",
            "Validation data shape: (369, 1)\n",
            "Test data shape: (369, 1)\n"
          ]
        }
      ]
    },
    {
      "cell_type": "code",
      "source": [
        "def create_dataset(data, time_step=60):\n",
        "    X, Y = [], []\n",
        "    for i in range(time_step, len(data)):\n",
        "        X.append(data[i-time_step:i, 0])\n",
        "        Y.append(data[i, 0])\n",
        "    return np.array(X), np.array(Y)"
      ],
      "metadata": {
        "id": "cYrFZHvgBY4K"
      },
      "execution_count": null,
      "outputs": []
    },
    {
      "cell_type": "code",
      "source": [
        "time_step = 60\n",
        "X_train, y_train = create_dataset(train_data, time_step)\n",
        "X_val, y_val = create_dataset(val_data, time_step)\n",
        "X_test, y_test = create_dataset(test_data, time_step)\n",
        "\n",
        "X_train = torch.tensor(X_train, dtype=torch.float32).unsqueeze(2)\n",
        "y_train = torch.tensor(y_train, dtype=torch.float32).unsqueeze(1)\n",
        "X_val = torch.tensor(X_val, dtype=torch.float32).unsqueeze(2)\n",
        "y_val = torch.tensor(y_val, dtype=torch.float32).unsqueeze(1)\n",
        "X_test = torch.tensor(X_test, dtype=torch.float32).unsqueeze(2)\n",
        "y_test = torch.tensor(y_test, dtype=torch.float32).unsqueeze(1)\n",
        "X_train = X_train.to(device)\n",
        "y_train = y_train.to(device)\n",
        "X_val = X_val.to(device)\n",
        "y_val = y_val.to(device)\n",
        "X_test = X_test.to(device)\n",
        "y_test = y_test.to(device)"
      ],
      "metadata": {
        "id": "DXEuFTHXBcxx"
      },
      "execution_count": null,
      "outputs": []
    },
    {
      "cell_type": "code",
      "source": [
        "class LSTMModel(nn.Module):\n",
        "    def __init__(self, input_size=1, hidden_layer_size=100, output_size=1, dropout_prob=0.1):\n",
        "        super(LSTMModel, self).__init__()\n",
        "        self.hidden_layer_size = hidden_layer_size\n",
        "        self.lstm = nn.LSTM(input_size, hidden_layer_size, batch_first=True)\n",
        "        self.dropout = nn.Dropout(dropout_prob)\n",
        "        self.fc = nn.Linear(hidden_layer_size, output_size)\n",
        "\n",
        "    def forward(self, x):\n",
        "        h_0 = torch.zeros(1, x.size(0), self.hidden_layer_size).to(x.device)\n",
        "        c_0 = torch.zeros(1, x.size(0), self.hidden_layer_size).to(x.device)\n",
        "        out, _ = self.lstm(x, (h_0, c_0))\n",
        "        out = self.dropout(out[:, -1, :])\n",
        "        out = self.fc(out)\n",
        "        return out\n"
      ],
      "metadata": {
        "id": "1h_dx1VtZjYK"
      },
      "execution_count": null,
      "outputs": []
    },
    {
      "cell_type": "code",
      "source": [
        "model = LSTMModel().to(device)\n",
        "\n",
        "\n",
        "criterion = nn.MSELoss()\n",
        "optimizer = torch.optim.Adam(model.parameters(), lr=0.001)"
      ],
      "metadata": {
        "id": "tlE2NhRjBmKS"
      },
      "execution_count": null,
      "outputs": []
    },
    {
      "cell_type": "code",
      "source": [
        "epochs = 300\n",
        "train_losses = []\n",
        "val_losses = []\n",
        "for epoch in range(epochs):\n",
        "    model.train()\n",
        "    optimizer.zero_grad()\n",
        "    y_train_pred = model(X_train.to(device))\n",
        "    loss = criterion(y_train_pred, y_train)\n",
        "    loss.backward()\n",
        "    optimizer.step()\n",
        "\n",
        "    with torch.no_grad():\n",
        "        val_pred = model(X_val.to(device))\n",
        "        val_loss = criterion(val_pred, y_val)\n",
        "\n",
        "    print(f\"Epoch {epoch+1}/{epochs}, Train Loss: {loss.item()}, Val Loss: {val_loss.item()}\")\n",
        "    train_losses.append(loss.item())\n",
        "    val_losses.append(val_loss.item())"
      ],
      "metadata": {
        "colab": {
          "base_uri": "https://localhost:8080/"
        },
        "id": "epuhFNwgBpa5",
        "outputId": "2b4cd2ab-96ad-41ca-a6ed-d2e1b95ae6b8"
      },
      "execution_count": null,
      "outputs": [
        {
          "output_type": "stream",
          "name": "stdout",
          "text": [
            "Epoch 1/300, Train Loss: 0.05723520368337631, Val Loss: 0.3220764994621277\n",
            "Epoch 2/300, Train Loss: 0.05038199573755264, Val Loss: 0.29846736788749695\n",
            "Epoch 3/300, Train Loss: 0.04442569240927696, Val Loss: 0.2749793827533722\n",
            "Epoch 4/300, Train Loss: 0.03898794203996658, Val Loss: 0.25363868474960327\n",
            "Epoch 5/300, Train Loss: 0.03405690938234329, Val Loss: 0.22920380532741547\n",
            "Epoch 6/300, Train Loss: 0.030040262266993523, Val Loss: 0.2063293606042862\n",
            "Epoch 7/300, Train Loss: 0.026594804599881172, Val Loss: 0.18413227796554565\n",
            "Epoch 8/300, Train Loss: 0.024058697745203972, Val Loss: 0.16050513088703156\n",
            "Epoch 9/300, Train Loss: 0.022690678015351295, Val Loss: 0.1383652538061142\n",
            "Epoch 10/300, Train Loss: 0.02245708554983139, Val Loss: 0.1188255250453949\n",
            "Epoch 11/300, Train Loss: 0.023207951337099075, Val Loss: 0.10373715311288834\n",
            "Epoch 12/300, Train Loss: 0.024108219891786575, Val Loss: 0.09837096929550171\n",
            "Epoch 13/300, Train Loss: 0.024584678933024406, Val Loss: 0.09578575193881989\n",
            "Epoch 14/300, Train Loss: 0.02419343777000904, Val Loss: 0.09909457713365555\n",
            "Epoch 15/300, Train Loss: 0.023320036008954048, Val Loss: 0.10177383571863174\n",
            "Epoch 16/300, Train Loss: 0.022260824218392372, Val Loss: 0.10909569263458252\n",
            "Epoch 17/300, Train Loss: 0.021259158849716187, Val Loss: 0.11381064355373383\n",
            "Epoch 18/300, Train Loss: 0.02039082907140255, Val Loss: 0.12112098932266235\n",
            "Epoch 19/300, Train Loss: 0.019933044910430908, Val Loss: 0.12557406723499298\n",
            "Epoch 20/300, Train Loss: 0.019518038257956505, Val Loss: 0.12922747433185577\n",
            "Epoch 21/300, Train Loss: 0.019369808956980705, Val Loss: 0.13398899137973785\n",
            "Epoch 22/300, Train Loss: 0.01914723962545395, Val Loss: 0.1353621929883957\n",
            "Epoch 23/300, Train Loss: 0.019019849598407745, Val Loss: 0.13519805669784546\n",
            "Epoch 24/300, Train Loss: 0.01880148984491825, Val Loss: 0.13439509272575378\n",
            "Epoch 25/300, Train Loss: 0.018694216385483742, Val Loss: 0.13371692597866058\n",
            "Epoch 26/300, Train Loss: 0.018335454165935516, Val Loss: 0.13051453232765198\n",
            "Epoch 27/300, Train Loss: 0.01792769320309162, Val Loss: 0.12403816729784012\n",
            "Epoch 28/300, Train Loss: 0.01750326156616211, Val Loss: 0.12018075585365295\n",
            "Epoch 29/300, Train Loss: 0.017066223546862602, Val Loss: 0.11352833360433578\n",
            "Epoch 30/300, Train Loss: 0.01646195910871029, Val Loss: 0.105200856924057\n",
            "Epoch 31/300, Train Loss: 0.015795426443219185, Val Loss: 0.09624120593070984\n",
            "Epoch 32/300, Train Loss: 0.015106393955647945, Val Loss: 0.08694922178983688\n",
            "Epoch 33/300, Train Loss: 0.014555061236023903, Val Loss: 0.07634857296943665\n",
            "Epoch 34/300, Train Loss: 0.013878808356821537, Val Loss: 0.06675676256418228\n",
            "Epoch 35/300, Train Loss: 0.013226356357336044, Val Loss: 0.05600234866142273\n",
            "Epoch 36/300, Train Loss: 0.01270026620477438, Val Loss: 0.044690415263175964\n",
            "Epoch 37/300, Train Loss: 0.011957021430134773, Val Loss: 0.03490980342030525\n",
            "Epoch 38/300, Train Loss: 0.010993193835020065, Val Loss: 0.025634752586483955\n",
            "Epoch 39/300, Train Loss: 0.009739546105265617, Val Loss: 0.01692359894514084\n",
            "Epoch 40/300, Train Loss: 0.008306805975735188, Val Loss: 0.007624950259923935\n",
            "Epoch 41/300, Train Loss: 0.006463025230914354, Val Loss: 0.013032431714236736\n",
            "Epoch 42/300, Train Loss: 0.004785479977726936, Val Loss: 0.12390459328889847\n",
            "Epoch 43/300, Train Loss: 0.005286818835884333, Val Loss: 0.012794755399227142\n",
            "Epoch 44/300, Train Loss: 0.004299641586840153, Val Loss: 0.024431884288787842\n",
            "Epoch 45/300, Train Loss: 0.0058517600409686565, Val Loss: 0.02744782716035843\n",
            "Epoch 46/300, Train Loss: 0.0066491663455963135, Val Loss: 0.02082112431526184\n",
            "Epoch 47/300, Train Loss: 0.005889559164643288, Val Loss: 0.01882779598236084\n",
            "Epoch 48/300, Train Loss: 0.004115301184356213, Val Loss: 0.15660956501960754\n",
            "Epoch 49/300, Train Loss: 0.005117820110172033, Val Loss: 0.06776554137468338\n",
            "Epoch 50/300, Train Loss: 0.0035436467733234167, Val Loss: 0.014665604569017887\n",
            "Epoch 51/300, Train Loss: 0.002971925539895892, Val Loss: 0.008641005493700504\n",
            "Epoch 52/300, Train Loss: 0.0031023884657770395, Val Loss: 0.0072805616073310375\n",
            "Epoch 53/300, Train Loss: 0.003026367397978902, Val Loss: 0.006462122779339552\n",
            "Epoch 54/300, Train Loss: 0.0025895098224282265, Val Loss: 0.00506938248872757\n",
            "Epoch 55/300, Train Loss: 0.002347832079976797, Val Loss: 0.006600305438041687\n",
            "Epoch 56/300, Train Loss: 0.0022994561586529016, Val Loss: 0.009875254705548286\n",
            "Epoch 57/300, Train Loss: 0.0024801583494991064, Val Loss: 0.010694922879338264\n",
            "Epoch 58/300, Train Loss: 0.002578200539574027, Val Loss: 0.007592361886054277\n",
            "Epoch 59/300, Train Loss: 0.002336933044716716, Val Loss: 0.004749251529574394\n",
            "Epoch 60/300, Train Loss: 0.0019579255022108555, Val Loss: 0.0033944689203053713\n",
            "Epoch 61/300, Train Loss: 0.0018399900291115046, Val Loss: 0.0038009355776011944\n",
            "Epoch 62/300, Train Loss: 0.0018207526300102472, Val Loss: 0.0037495519500225782\n",
            "Epoch 63/300, Train Loss: 0.0017128210747614503, Val Loss: 0.0033443120773881674\n",
            "Epoch 64/300, Train Loss: 0.0016424485947936773, Val Loss: 0.003545198356732726\n",
            "Epoch 65/300, Train Loss: 0.0014292056439444423, Val Loss: 0.004961250349879265\n",
            "Epoch 66/300, Train Loss: 0.001250808360055089, Val Loss: 0.008375289849936962\n",
            "Epoch 67/300, Train Loss: 0.001229092013090849, Val Loss: 0.012536301277577877\n",
            "Epoch 68/300, Train Loss: 0.0012464210158213973, Val Loss: 0.014146693982183933\n",
            "Epoch 69/300, Train Loss: 0.0012586251832544804, Val Loss: 0.011581646278500557\n",
            "Epoch 70/300, Train Loss: 0.0011345960665494204, Val Loss: 0.009042702615261078\n",
            "Epoch 71/300, Train Loss: 0.0010157221695408225, Val Loss: 0.006674379575997591\n",
            "Epoch 72/300, Train Loss: 0.0010054734302684665, Val Loss: 0.0048881457187235355\n",
            "Epoch 73/300, Train Loss: 0.0009751704055815935, Val Loss: 0.004547355230897665\n",
            "Epoch 74/300, Train Loss: 0.0008999570272862911, Val Loss: 0.004787116311490536\n",
            "Epoch 75/300, Train Loss: 0.0007929073181003332, Val Loss: 0.00630116555839777\n",
            "Epoch 76/300, Train Loss: 0.0007519993232563138, Val Loss: 0.0064420211128890514\n",
            "Epoch 77/300, Train Loss: 0.0007589918677695096, Val Loss: 0.006083100568503141\n",
            "Epoch 78/300, Train Loss: 0.0007134350598789752, Val Loss: 0.005336620379239321\n",
            "Epoch 79/300, Train Loss: 0.0006698416545987129, Val Loss: 0.0044208113104105\n",
            "Epoch 80/300, Train Loss: 0.0006097752484492958, Val Loss: 0.0034361681900918484\n",
            "Epoch 81/300, Train Loss: 0.0005789066199213266, Val Loss: 0.0027881318237632513\n",
            "Epoch 82/300, Train Loss: 0.0005762093933299184, Val Loss: 0.002376964082941413\n",
            "Epoch 83/300, Train Loss: 0.0005630077794194221, Val Loss: 0.0023472460452467203\n",
            "Epoch 84/300, Train Loss: 0.0005403530085459352, Val Loss: 0.002206900157034397\n",
            "Epoch 85/300, Train Loss: 0.0005228834343142807, Val Loss: 0.00259108142927289\n",
            "Epoch 86/300, Train Loss: 0.0004736045957542956, Val Loss: 0.0030804118141531944\n",
            "Epoch 87/300, Train Loss: 0.00044539992813952267, Val Loss: 0.0036637969315052032\n",
            "Epoch 88/300, Train Loss: 0.00043619703501462936, Val Loss: 0.003615587716922164\n",
            "Epoch 89/300, Train Loss: 0.0004279962449800223, Val Loss: 0.0033133456017822027\n",
            "Epoch 90/300, Train Loss: 0.0004031601420138031, Val Loss: 0.003184136701747775\n",
            "Epoch 91/300, Train Loss: 0.0003940961032640189, Val Loss: 0.002958188997581601\n",
            "Epoch 92/300, Train Loss: 0.0003564773651305586, Val Loss: 0.002597696613520384\n",
            "Epoch 93/300, Train Loss: 0.00035328653757460415, Val Loss: 0.002564339665696025\n",
            "Epoch 94/300, Train Loss: 0.00036472309147939086, Val Loss: 0.0030241631902754307\n",
            "Epoch 95/300, Train Loss: 0.0003357722016517073, Val Loss: 0.002667766297236085\n",
            "Epoch 96/300, Train Loss: 0.0003335631045047194, Val Loss: 0.0028291838243603706\n",
            "Epoch 97/300, Train Loss: 0.0003326556761749089, Val Loss: 0.0027601439505815506\n",
            "Epoch 98/300, Train Loss: 0.00032570326584391296, Val Loss: 0.0023901001550257206\n",
            "Epoch 99/300, Train Loss: 0.00032180524431169033, Val Loss: 0.0020576072856783867\n",
            "Epoch 100/300, Train Loss: 0.0002907971211243421, Val Loss: 0.002039404818788171\n",
            "Epoch 101/300, Train Loss: 0.00029216238181106746, Val Loss: 0.0017055883072316647\n",
            "Epoch 102/300, Train Loss: 0.0002959627890959382, Val Loss: 0.0018767490983009338\n",
            "Epoch 103/300, Train Loss: 0.0002809333091136068, Val Loss: 0.0022002197802066803\n",
            "Epoch 104/300, Train Loss: 0.00030619773315265775, Val Loss: 0.0018189660040661693\n",
            "Epoch 105/300, Train Loss: 0.0003017307899426669, Val Loss: 0.0018102595349773765\n",
            "Epoch 106/300, Train Loss: 0.00032402502256445587, Val Loss: 0.0017216958804056048\n",
            "Epoch 107/300, Train Loss: 0.00029721821192651987, Val Loss: 0.002192288637161255\n",
            "Epoch 108/300, Train Loss: 0.00027291561127640307, Val Loss: 0.0016675443621352315\n",
            "Epoch 109/300, Train Loss: 0.00029109310708008707, Val Loss: 0.001833354472182691\n",
            "Epoch 110/300, Train Loss: 0.00029657239792868495, Val Loss: 0.0018327831057831645\n",
            "Epoch 111/300, Train Loss: 0.0002770551072899252, Val Loss: 0.0016365302726626396\n",
            "Epoch 112/300, Train Loss: 0.0003123099741060287, Val Loss: 0.0018171246629208326\n",
            "Epoch 113/300, Train Loss: 0.0002692564739845693, Val Loss: 0.0019187817815691233\n",
            "Epoch 114/300, Train Loss: 0.00029325258219614625, Val Loss: 0.0019090080168098211\n",
            "Epoch 115/300, Train Loss: 0.00027879211120307446, Val Loss: 0.0016846359940245748\n",
            "Epoch 116/300, Train Loss: 0.000292072567390278, Val Loss: 0.0018184527289122343\n",
            "Epoch 117/300, Train Loss: 0.0002927377063315362, Val Loss: 0.0014996847603470087\n",
            "Epoch 118/300, Train Loss: 0.0002999480639118701, Val Loss: 0.0016073193401098251\n",
            "Epoch 119/300, Train Loss: 0.00026575190713629127, Val Loss: 0.0016901250928640366\n",
            "Epoch 120/300, Train Loss: 0.00028496948652900755, Val Loss: 0.0019527369877323508\n",
            "Epoch 121/300, Train Loss: 0.0002990972716361284, Val Loss: 0.0014860775554552674\n",
            "Epoch 122/300, Train Loss: 0.0002845432609319687, Val Loss: 0.0019553122110664845\n",
            "Epoch 123/300, Train Loss: 0.00028302124701440334, Val Loss: 0.0016210249159485102\n",
            "Epoch 124/300, Train Loss: 0.0002686786465346813, Val Loss: 0.0016335236141458154\n",
            "Epoch 125/300, Train Loss: 0.0002801407244987786, Val Loss: 0.0017880094237625599\n",
            "Epoch 126/300, Train Loss: 0.00028647095314227045, Val Loss: 0.0016683397116139531\n",
            "Epoch 127/300, Train Loss: 0.0002841863315552473, Val Loss: 0.001766691217198968\n",
            "Epoch 128/300, Train Loss: 0.00028101567295379937, Val Loss: 0.0016494595911353827\n",
            "Epoch 129/300, Train Loss: 0.0002757621987257153, Val Loss: 0.0015956347342580557\n",
            "Epoch 130/300, Train Loss: 0.0002848202420864254, Val Loss: 0.0018223350634798408\n",
            "Epoch 131/300, Train Loss: 0.00028055309667252004, Val Loss: 0.001510815811343491\n",
            "Epoch 132/300, Train Loss: 0.0002637949655763805, Val Loss: 0.0018965970957651734\n",
            "Epoch 133/300, Train Loss: 0.00026838702615350485, Val Loss: 0.0016177051002159715\n",
            "Epoch 134/300, Train Loss: 0.0002775847679004073, Val Loss: 0.0018663426162675023\n",
            "Epoch 135/300, Train Loss: 0.0002979940618388355, Val Loss: 0.0019491648999974132\n",
            "Epoch 136/300, Train Loss: 0.00028549606213346124, Val Loss: 0.0017253508558496833\n",
            "Epoch 137/300, Train Loss: 0.0002857513027265668, Val Loss: 0.0016570856096222997\n",
            "Epoch 138/300, Train Loss: 0.0002791139704640955, Val Loss: 0.0015855701640248299\n",
            "Epoch 139/300, Train Loss: 0.00027441547717899084, Val Loss: 0.0015193241415545344\n",
            "Epoch 140/300, Train Loss: 0.0002748860279098153, Val Loss: 0.001819885685108602\n",
            "Epoch 141/300, Train Loss: 0.00027838110690936446, Val Loss: 0.0017208297504112124\n",
            "Epoch 142/300, Train Loss: 0.00026640997384674847, Val Loss: 0.0018644375959411263\n",
            "Epoch 143/300, Train Loss: 0.0003083661140408367, Val Loss: 0.0017694999696686864\n",
            "Epoch 144/300, Train Loss: 0.0002818565408233553, Val Loss: 0.0016997854690998793\n",
            "Epoch 145/300, Train Loss: 0.00029008917044848204, Val Loss: 0.001932258834131062\n",
            "Epoch 146/300, Train Loss: 0.00026608590269461274, Val Loss: 0.0017087088199332356\n",
            "Epoch 147/300, Train Loss: 0.0002672941191121936, Val Loss: 0.001883476390503347\n",
            "Epoch 148/300, Train Loss: 0.0002923053107224405, Val Loss: 0.0018631251296028495\n",
            "Epoch 149/300, Train Loss: 0.0002732719003688544, Val Loss: 0.0016190309543162584\n",
            "Epoch 150/300, Train Loss: 0.0002613887481857091, Val Loss: 0.0017812318401411176\n",
            "Epoch 151/300, Train Loss: 0.0002539590641390532, Val Loss: 0.0017270715907216072\n",
            "Epoch 152/300, Train Loss: 0.00027814632630907, Val Loss: 0.0015048659406602383\n",
            "Epoch 153/300, Train Loss: 0.00027499013231135905, Val Loss: 0.0017521351110190153\n",
            "Epoch 154/300, Train Loss: 0.00025505153462290764, Val Loss: 0.0015258700586855412\n",
            "Epoch 155/300, Train Loss: 0.00026683989563025534, Val Loss: 0.0017791495192795992\n",
            "Epoch 156/300, Train Loss: 0.00026383495423942804, Val Loss: 0.0017764889635145664\n",
            "Epoch 157/300, Train Loss: 0.0002590241201687604, Val Loss: 0.001791020156815648\n",
            "Epoch 158/300, Train Loss: 0.0002645424974616617, Val Loss: 0.0017383773811161518\n",
            "Epoch 159/300, Train Loss: 0.00027729227440431714, Val Loss: 0.0017202598974108696\n",
            "Epoch 160/300, Train Loss: 0.0002684781211428344, Val Loss: 0.001796561642549932\n",
            "Epoch 161/300, Train Loss: 0.00026426356635056436, Val Loss: 0.0017715480644255877\n",
            "Epoch 162/300, Train Loss: 0.0002708660904318094, Val Loss: 0.001974874408915639\n",
            "Epoch 163/300, Train Loss: 0.00028654118068516254, Val Loss: 0.0015504506882280111\n",
            "Epoch 164/300, Train Loss: 0.00027708939160220325, Val Loss: 0.001741089508868754\n",
            "Epoch 165/300, Train Loss: 0.0002973470836877823, Val Loss: 0.0017849866999313235\n",
            "Epoch 166/300, Train Loss: 0.00026060413802042603, Val Loss: 0.0015665017999708652\n",
            "Epoch 167/300, Train Loss: 0.0002886807487811893, Val Loss: 0.0017138299299404025\n",
            "Epoch 168/300, Train Loss: 0.00027203085483051836, Val Loss: 0.0018387635936960578\n",
            "Epoch 169/300, Train Loss: 0.0002710135013330728, Val Loss: 0.0017047961009666324\n",
            "Epoch 170/300, Train Loss: 0.00028680157265625894, Val Loss: 0.001700609689578414\n",
            "Epoch 171/300, Train Loss: 0.0002782130613923073, Val Loss: 0.00161099957767874\n",
            "Epoch 172/300, Train Loss: 0.0002640406892169267, Val Loss: 0.001769499504007399\n",
            "Epoch 173/300, Train Loss: 0.0002632989489939064, Val Loss: 0.0016911833081394434\n",
            "Epoch 174/300, Train Loss: 0.0002870597527362406, Val Loss: 0.0018236535834148526\n",
            "Epoch 175/300, Train Loss: 0.0002573051897343248, Val Loss: 0.0017882505198940635\n",
            "Epoch 176/300, Train Loss: 0.000277331710094586, Val Loss: 0.0015823323046788573\n",
            "Epoch 177/300, Train Loss: 0.0002594144316390157, Val Loss: 0.001878807321190834\n",
            "Epoch 178/300, Train Loss: 0.0002757889742497355, Val Loss: 0.0016102631343528628\n",
            "Epoch 179/300, Train Loss: 0.00026860478101298213, Val Loss: 0.0018703105160966516\n",
            "Epoch 180/300, Train Loss: 0.00026540260296314955, Val Loss: 0.0017635521944612265\n",
            "Epoch 181/300, Train Loss: 0.0002591981028672308, Val Loss: 0.0018004034645855427\n",
            "Epoch 182/300, Train Loss: 0.00027727853739634156, Val Loss: 0.0019513246370479465\n",
            "Epoch 183/300, Train Loss: 0.00025316773098893464, Val Loss: 0.001983445603400469\n",
            "Epoch 184/300, Train Loss: 0.0002532887738198042, Val Loss: 0.0016711580101400614\n",
            "Epoch 185/300, Train Loss: 0.00027120966115035117, Val Loss: 0.001911280327476561\n",
            "Epoch 186/300, Train Loss: 0.00026085416902787983, Val Loss: 0.0017820883076637983\n",
            "Epoch 187/300, Train Loss: 0.00028050446417182684, Val Loss: 0.0017261821776628494\n",
            "Epoch 188/300, Train Loss: 0.0002749290724750608, Val Loss: 0.0019927809480577707\n",
            "Epoch 189/300, Train Loss: 0.0002282150962855667, Val Loss: 0.001579890726134181\n",
            "Epoch 190/300, Train Loss: 0.0002714647853281349, Val Loss: 0.0017706929938867688\n",
            "Epoch 191/300, Train Loss: 0.00026396274915896356, Val Loss: 0.0014902735128998756\n",
            "Epoch 192/300, Train Loss: 0.00025314599042758346, Val Loss: 0.0016468752874061465\n",
            "Epoch 193/300, Train Loss: 0.00026757203158922493, Val Loss: 0.0015580308390781283\n",
            "Epoch 194/300, Train Loss: 0.0002623386972118169, Val Loss: 0.0016922911163419485\n",
            "Epoch 195/300, Train Loss: 0.0002688305976334959, Val Loss: 0.002097151940688491\n",
            "Epoch 196/300, Train Loss: 0.00023956436780281365, Val Loss: 0.0018250906141474843\n",
            "Epoch 197/300, Train Loss: 0.0002462422999087721, Val Loss: 0.0018573510460555553\n",
            "Epoch 198/300, Train Loss: 0.0002704941725824028, Val Loss: 0.0017580462154000998\n",
            "Epoch 199/300, Train Loss: 0.0002514731604605913, Val Loss: 0.001549864187836647\n",
            "Epoch 200/300, Train Loss: 0.0002502569113858044, Val Loss: 0.0019203978590667248\n",
            "Epoch 201/300, Train Loss: 0.00023782122298143804, Val Loss: 0.0017897312063723803\n",
            "Epoch 202/300, Train Loss: 0.0002616159326862544, Val Loss: 0.001726484508253634\n",
            "Epoch 203/300, Train Loss: 0.0002693200367502868, Val Loss: 0.001817009993828833\n",
            "Epoch 204/300, Train Loss: 0.000239321801927872, Val Loss: 0.001778623671270907\n",
            "Epoch 205/300, Train Loss: 0.0002748516562860459, Val Loss: 0.0017982732970267534\n",
            "Epoch 206/300, Train Loss: 0.0002519217669032514, Val Loss: 0.0016473246505483985\n",
            "Epoch 207/300, Train Loss: 0.0002497378154657781, Val Loss: 0.0014416641788557172\n",
            "Epoch 208/300, Train Loss: 0.00026842570514418185, Val Loss: 0.0014424133114516735\n",
            "Epoch 209/300, Train Loss: 0.0002533603983465582, Val Loss: 0.0016932472353801131\n",
            "Epoch 210/300, Train Loss: 0.00025281388661824167, Val Loss: 0.0015967831714078784\n",
            "Epoch 211/300, Train Loss: 0.0002556144318077713, Val Loss: 0.0017068147426471114\n",
            "Epoch 212/300, Train Loss: 0.0002472936175763607, Val Loss: 0.0016131731681525707\n",
            "Epoch 213/300, Train Loss: 0.0002516690583433956, Val Loss: 0.0016600048402324319\n",
            "Epoch 214/300, Train Loss: 0.00026735314168035984, Val Loss: 0.0014688989613205194\n",
            "Epoch 215/300, Train Loss: 0.000253043370321393, Val Loss: 0.001660386798903346\n",
            "Epoch 216/300, Train Loss: 0.00029004193493165076, Val Loss: 0.0017710141837596893\n",
            "Epoch 217/300, Train Loss: 0.0002585229813121259, Val Loss: 0.0017842089291661978\n",
            "Epoch 218/300, Train Loss: 0.00025199344963766634, Val Loss: 0.0018741432577371597\n",
            "Epoch 219/300, Train Loss: 0.00025540171191096306, Val Loss: 0.0015738296788185835\n",
            "Epoch 220/300, Train Loss: 0.0002596199046820402, Val Loss: 0.0018386062001809478\n",
            "Epoch 221/300, Train Loss: 0.0002551854122430086, Val Loss: 0.00176390097476542\n",
            "Epoch 222/300, Train Loss: 0.00024908522027544677, Val Loss: 0.0017887653084471822\n",
            "Epoch 223/300, Train Loss: 0.0002513877989258617, Val Loss: 0.001566146849654615\n",
            "Epoch 224/300, Train Loss: 0.0002481214760337025, Val Loss: 0.0014607376651838422\n",
            "Epoch 225/300, Train Loss: 0.00024943839525803924, Val Loss: 0.0013457275927066803\n",
            "Epoch 226/300, Train Loss: 0.00024874950759112835, Val Loss: 0.0015988751547411084\n",
            "Epoch 227/300, Train Loss: 0.00024769469746388495, Val Loss: 0.0014311873819679022\n",
            "Epoch 228/300, Train Loss: 0.00025213544722646475, Val Loss: 0.0015150596154853702\n",
            "Epoch 229/300, Train Loss: 0.00026037864154204726, Val Loss: 0.0016150843584910035\n",
            "Epoch 230/300, Train Loss: 0.00023822221555747092, Val Loss: 0.0013979582581669092\n",
            "Epoch 231/300, Train Loss: 0.00024852968635968864, Val Loss: 0.0014182700542733073\n",
            "Epoch 232/300, Train Loss: 0.0002457720984239131, Val Loss: 0.0018815603107213974\n",
            "Epoch 233/300, Train Loss: 0.00025849303347058594, Val Loss: 0.0015244341921061277\n",
            "Epoch 234/300, Train Loss: 0.0002459734969306737, Val Loss: 0.0018339165253564715\n",
            "Epoch 235/300, Train Loss: 0.00024795581703074276, Val Loss: 0.001758269383572042\n",
            "Epoch 236/300, Train Loss: 0.00026159340632148087, Val Loss: 0.0014649622607976198\n",
            "Epoch 237/300, Train Loss: 0.00025217171059921384, Val Loss: 0.0015264912508428097\n",
            "Epoch 238/300, Train Loss: 0.00023169258201960474, Val Loss: 0.0014986289897933602\n",
            "Epoch 239/300, Train Loss: 0.0002447107108309865, Val Loss: 0.0016721159918233752\n",
            "Epoch 240/300, Train Loss: 0.00024866758030839264, Val Loss: 0.00156794348731637\n",
            "Epoch 241/300, Train Loss: 0.0002512160281185061, Val Loss: 0.0016028060344979167\n",
            "Epoch 242/300, Train Loss: 0.0002443733683321625, Val Loss: 0.001501804799772799\n",
            "Epoch 243/300, Train Loss: 0.00025202007964253426, Val Loss: 0.0017029730370268226\n",
            "Epoch 244/300, Train Loss: 0.0002487654273863882, Val Loss: 0.0016666223527863622\n",
            "Epoch 245/300, Train Loss: 0.00024590035900473595, Val Loss: 0.0017293206183239818\n",
            "Epoch 246/300, Train Loss: 0.00025383158936165273, Val Loss: 0.0018635749584063888\n",
            "Epoch 247/300, Train Loss: 0.0002407615102129057, Val Loss: 0.001381655572913587\n",
            "Epoch 248/300, Train Loss: 0.0002445270074531436, Val Loss: 0.0014677380677312613\n",
            "Epoch 249/300, Train Loss: 0.00025443272897973657, Val Loss: 0.0017397376941516995\n",
            "Epoch 250/300, Train Loss: 0.00023324621724896133, Val Loss: 0.0015547372167930007\n",
            "Epoch 251/300, Train Loss: 0.00023173615045379847, Val Loss: 0.0017629103967919946\n",
            "Epoch 252/300, Train Loss: 0.00021573695994447917, Val Loss: 0.0014813594752922654\n",
            "Epoch 253/300, Train Loss: 0.0002609461371321231, Val Loss: 0.0016670887125656009\n",
            "Epoch 254/300, Train Loss: 0.000248764205025509, Val Loss: 0.0016748557100072503\n",
            "Epoch 255/300, Train Loss: 0.00024157964799087495, Val Loss: 0.0017448298167437315\n",
            "Epoch 256/300, Train Loss: 0.00022957813052926213, Val Loss: 0.0015469171339645982\n",
            "Epoch 257/300, Train Loss: 0.00023454045003745705, Val Loss: 0.0016578874783590436\n",
            "Epoch 258/300, Train Loss: 0.00023088529997039586, Val Loss: 0.001345398253761232\n",
            "Epoch 259/300, Train Loss: 0.0002519196132197976, Val Loss: 0.001434788224287331\n",
            "Epoch 260/300, Train Loss: 0.0002385113330092281, Val Loss: 0.0014838110655546188\n",
            "Epoch 261/300, Train Loss: 0.0002588706265669316, Val Loss: 0.0016674777725711465\n",
            "Epoch 262/300, Train Loss: 0.0002575697435531765, Val Loss: 0.001643824391067028\n",
            "Epoch 263/300, Train Loss: 0.00024850358022376895, Val Loss: 0.0015721737872809172\n",
            "Epoch 264/300, Train Loss: 0.0002306114911334589, Val Loss: 0.0015495977131649852\n",
            "Epoch 265/300, Train Loss: 0.00025131646543741226, Val Loss: 0.0016338960267603397\n",
            "Epoch 266/300, Train Loss: 0.00024928030325099826, Val Loss: 0.0017610399518162012\n",
            "Epoch 267/300, Train Loss: 0.000242357884417288, Val Loss: 0.0016395838465541601\n",
            "Epoch 268/300, Train Loss: 0.00023865416005719453, Val Loss: 0.0015605705557391047\n",
            "Epoch 269/300, Train Loss: 0.00022680367692373693, Val Loss: 0.001490456284955144\n",
            "Epoch 270/300, Train Loss: 0.00023097713710740209, Val Loss: 0.0015592984855175018\n",
            "Epoch 271/300, Train Loss: 0.000222880975343287, Val Loss: 0.0013779932633042336\n",
            "Epoch 272/300, Train Loss: 0.00024298207426909357, Val Loss: 0.001631779014132917\n",
            "Epoch 273/300, Train Loss: 0.00022615722264163196, Val Loss: 0.0016450805123895407\n",
            "Epoch 274/300, Train Loss: 0.00022212650219444185, Val Loss: 0.0015239291824400425\n",
            "Epoch 275/300, Train Loss: 0.00025252727209590375, Val Loss: 0.0016037002205848694\n",
            "Epoch 276/300, Train Loss: 0.00023994315415620804, Val Loss: 0.0015662087826058269\n",
            "Epoch 277/300, Train Loss: 0.00022705626906827092, Val Loss: 0.0014780247583985329\n",
            "Epoch 278/300, Train Loss: 0.0002292555436724797, Val Loss: 0.0015719173243269324\n",
            "Epoch 279/300, Train Loss: 0.00023725999926682562, Val Loss: 0.00153000233694911\n",
            "Epoch 280/300, Train Loss: 0.0002520241541787982, Val Loss: 0.0017463343683630228\n",
            "Epoch 281/300, Train Loss: 0.00022169594012666494, Val Loss: 0.0017232124228030443\n",
            "Epoch 282/300, Train Loss: 0.00022781308507546782, Val Loss: 0.0015598726458847523\n",
            "Epoch 283/300, Train Loss: 0.00023982650600373745, Val Loss: 0.0016589539591223001\n",
            "Epoch 284/300, Train Loss: 0.0002287410170538351, Val Loss: 0.0016503274673596025\n",
            "Epoch 285/300, Train Loss: 0.00024045177269726992, Val Loss: 0.0015287342248484492\n",
            "Epoch 286/300, Train Loss: 0.0002260485343867913, Val Loss: 0.0014826992992311716\n",
            "Epoch 287/300, Train Loss: 0.00021590854157693684, Val Loss: 0.0016238786047324538\n",
            "Epoch 288/300, Train Loss: 0.0002490339975338429, Val Loss: 0.001544482889585197\n",
            "Epoch 289/300, Train Loss: 0.00023840880021452904, Val Loss: 0.0015765525167807937\n",
            "Epoch 290/300, Train Loss: 0.00022004485072102398, Val Loss: 0.0014992851065471768\n",
            "Epoch 291/300, Train Loss: 0.0002272345154779032, Val Loss: 0.0015606357483193278\n",
            "Epoch 292/300, Train Loss: 0.00022084490046836436, Val Loss: 0.0017692252295091748\n",
            "Epoch 293/300, Train Loss: 0.00023037788923829794, Val Loss: 0.0015801123809069395\n",
            "Epoch 294/300, Train Loss: 0.00021699654462281615, Val Loss: 0.0016337021952494979\n",
            "Epoch 295/300, Train Loss: 0.00022901494230609387, Val Loss: 0.0015501874731853604\n",
            "Epoch 296/300, Train Loss: 0.0002278509346069768, Val Loss: 0.0015256418846547604\n",
            "Epoch 297/300, Train Loss: 0.00022558688942808658, Val Loss: 0.0017084975261241198\n",
            "Epoch 298/300, Train Loss: 0.00023985399457160383, Val Loss: 0.0015429867198690772\n",
            "Epoch 299/300, Train Loss: 0.0002562413574196398, Val Loss: 0.0014273585984483361\n",
            "Epoch 300/300, Train Loss: 0.0002398423821432516, Val Loss: 0.0017751872073858976\n"
          ]
        }
      ]
    },
    {
      "cell_type": "code",
      "source": [
        "model.eval()\n",
        "with torch.no_grad():\n",
        "    train_pred = model(X_train.to(device))\n",
        "    test_pred = model(X_test.to(device))"
      ],
      "metadata": {
        "id": "yYGXnXHwBsoi"
      },
      "execution_count": null,
      "outputs": []
    },
    {
      "cell_type": "code",
      "source": [
        "plt.plot(train_losses, label='Training Loss')\n",
        "plt.plot(val_losses, label='Validation Loss')\n",
        "plt.xlabel('Epoch')\n",
        "plt.ylabel('Loss')\n",
        "plt.title('Learning Curves')\n",
        "plt.legend()\n",
        "plt.show()"
      ],
      "metadata": {
        "colab": {
          "base_uri": "https://localhost:8080/",
          "height": 472
        },
        "id": "lkSdU43JE0dX",
        "outputId": "d12d0dd4-89c6-42c8-e320-389886e31141"
      },
      "execution_count": null,
      "outputs": [
        {
          "output_type": "display_data",
          "data": {
            "text/plain": [
              "<Figure size 640x480 with 1 Axes>"
            ],
            "image/png": "[encoded data removed]"
          },
          "metadata": {}
        }
      ]
    },
    {
      "cell_type": "code",
      "source": [
        "train_pred = scaler.inverse_transform(train_pred.cpu().numpy())\n",
        "test_pred = scaler.inverse_transform(test_pred.cpu().numpy())\n",
        "y_train = scaler.inverse_transform(y_train.cpu().numpy())\n",
        "y_test = scaler.inverse_transform(y_test.cpu().numpy())\n",
        "\n",
        "train_rmse = np.sqrt(mean_squared_error(y_train, train_pred))\n",
        "test_rmse = np.sqrt(mean_squared_error(y_test, test_pred))\n",
        "\n",
        "def calculate_accuracy(y_true, y_pred):\n",
        "    return 100 - np.mean(np.abs((y_true - y_pred) / y_true)) * 100\n",
        "\n",
        "train_accuracy = calculate_accuracy(y_train, train_pred)\n",
        "test_accuracy = calculate_accuracy(y_test, test_pred)\n",
        "\n",
        "print(f'Train RMSE: {train_rmse}, Test RMSE: {test_rmse}')\n",
        "print(f'Train Accuracy: {train_accuracy}%, Test Accuracy: {test_accuracy}%')\n",
        "\n",
        "plt.figure(figsize=(14, 5))\n",
        "plt.plot(y_test, label='Actual Price', color='blue')\n",
        "plt.plot(test_pred, label='Predicted Price', color='red')\n",
        "plt.title('Google Stock Price Prediction (Test)')\n",
        "plt.xlabel('Time')\n",
        "plt.ylabel('Stock Price')\n",
        "plt.legend()\n",
        "plt.show()"
      ],
      "metadata": {
        "colab": {
          "base_uri": "https://localhost:8080/",
          "height": 476
        },
        "id": "n3qK-IxHBywg",
        "outputId": "46cf2b7e-37a5-4622-c26e-0e739786c1cc"
      },
      "execution_count": null,
      "outputs": [
        {
          "output_type": "stream",
          "name": "stdout",
          "text": [
            "Train RMSE: 1.4325776100158691, Test RMSE: 4.374875545501709\n",
            "Train Accuracy: 97.57807236164808%, Test Accuracy: 97.69041258841753%\n"
          ]
        },
        {
          "output_type": "display_data",
          "data": {
            "text/plain": [
              "<Figure size 1400x500 with 1 Axes>"
            ],
            "image/png": "[encoded data removed]"
          },
          "metadata": {}
        }
      ]
    },
    {
      "cell_type": "code",
      "source": [
        "input_date = input(\"Enter the date in YYYY-MM-DD format (e.g., 2024-01-01): \")\n",
        "df = yf.download('GOOG', start='2010-01-01', end=input_date)\n",
        "data = df[['Close']].values\n",
        "scaled_data = scaler.transform(data)\n",
        "\n",
        "\n",
        "last_60_days = scaled_data[-60:]\n",
        "\n",
        "input_data = torch.tensor(last_60_days, dtype=torch.float32).unsqueeze(0).unsqueeze(2).to(device)\n",
        "\n",
        "input_data = input_data.squeeze(3)\n",
        "\n",
        "model.eval()\n",
        "with torch.no_grad():\n",
        "     prediction = model(input_data)\n",
        "\n",
        "predicted_price = scaler.inverse_transform(prediction.cpu().numpy())\n",
        "print(f\"Predicted closing price for {input_date}: {predicted_price[0][0]}\")\n",
        "actual_price = df['Close'][-1]\n",
        "\n",
        "print(f\"Actual closing price for {input_date}: {actual_price}\")"
      ],
      "metadata": {
        "id": "tEJDWmQjCNlh",
        "outputId": "4dd452ba-86ba-4c1c-e362-6ef0dacd8a6d",
        "colab": {
          "base_uri": "https://localhost:8080/"
        }
      },
      "execution_count": null,
      "outputs": [
        {
          "name": "stdout",
          "output_type": "stream",
          "text": [
            "Enter the date in YYYY-MM-DD format (e.g., 2024-01-01): 2017-08-08\n"
          ]
        },
        {
          "output_type": "stream",
          "name": "stderr",
          "text": [
            "\r[*********************100%***********************]  1 of 1 completed"
          ]
        },
        {
          "output_type": "stream",
          "name": "stdout",
          "text": [
            "Predicted closing price for 2017-08-08: 47.14078903198242\n",
            "Actual closing price for 2017-08-08: 46.46799850463867\n"
          ]
        },
        {
          "output_type": "stream",
          "name": "stderr",
          "text": [
            "\n",
            "<ipython-input-57-d6df7d7cd398>:19: FutureWarning: Series.__getitem__ treating keys as positions is deprecated. In a future version, integer keys will always be treated as labels (consistent with DataFrame behavior). To access a value by position, use `ser.iloc[pos]`\n",
            "  actual_price = df['Close'][-1]\n"
          ]
        }
      ]
    },
    {
      "cell_type": "code",
      "source": [
        "pip install torch.onnx\n"
      ],
      "metadata": {
        "colab": {
          "base_uri": "https://localhost:8080/"
        },
        "id": "_bhI4LYnURoh",
        "outputId": "e6b4efa2-7340-4b11-b7bb-a7903938553c"
      },
      "execution_count": null,
      "outputs": [
        {
          "output_type": "stream",
          "name": "stdout",
          "text": [
            "Requirement already satisfied: torch.onnx in /usr/local/lib/python3.10/dist-packages (0.1.25)\n",
            "Requirement already satisfied: torch>=2.1 in /usr/local/lib/python3.10/dist-packages (from torch.onnx) (2.4.1+cu121)\n",
            "Requirement already satisfied: onnxscript>=0.1.0.dev20240831 in /usr/local/lib/python3.10/dist-packages (from torch.onnx) (0.1.0.dev20240926)\n",
            "Requirement already satisfied: onnx>=1.16 in /usr/local/lib/python3.10/dist-packages (from torch.onnx) (1.16.2)\n",
            "Requirement already satisfied: typing-extensions in /usr/local/lib/python3.10/dist-packages (from torch.onnx) (4.12.2)\n",
            "Requirement already satisfied: packaging in /usr/local/lib/python3.10/dist-packages (from torch.onnx) (24.1)\n",
            "Requirement already satisfied: numpy>=1.20 in /usr/local/lib/python3.10/dist-packages (from onnx>=1.16->torch.onnx) (1.26.4)\n",
            "Requirement already satisfied: protobuf>=3.20.2 in /usr/local/lib/python3.10/dist-packages (from onnx>=1.16->torch.onnx) (3.20.3)\n",
            "Requirement already satisfied: ml-dtypes in /usr/local/lib/python3.10/dist-packages (from onnxscript>=0.1.0.dev20240831->torch.onnx) (0.4.1)\n",
            "Requirement already satisfied: filelock in /usr/local/lib/python3.10/dist-packages (from torch>=2.1->torch.onnx) (3.16.1)\n",
            "Requirement already satisfied: sympy in /usr/local/lib/python3.10/dist-packages (from torch>=2.1->torch.onnx) (1.13.3)\n",
            "Requirement already satisfied: networkx in /usr/local/lib/python3.10/dist-packages (from torch>=2.1->torch.onnx) (3.3)\n",
            "Requirement already satisfied: jinja2 in /usr/local/lib/python3.10/dist-packages (from torch>=2.1->torch.onnx) (3.1.4)\n",
            "Requirement already satisfied: fsspec in /usr/local/lib/python3.10/dist-packages (from torch>=2.1->torch.onnx) (2024.6.1)\n",
            "Requirement already satisfied: MarkupSafe>=2.0 in /usr/local/lib/python3.10/dist-packages (from jinja2->torch>=2.1->torch.onnx) (2.1.5)\n",
            "Requirement already satisfied: mpmath<1.4,>=1.1.0 in /usr/local/lib/python3.10/dist-packages (from sympy->torch>=2.1->torch.onnx) (1.3.0)\n"
          ]
        }
      ]
    },
    {
      "cell_type": "code",
      "source": [
        "import os\n",
        "import torch\n",
        "import torch.onnx\n",
        "from google.colab import files\n",
        "\n",
        "current_dir = os.getcwd()\n",
        "model_save_path = os.path.join(current_dir, 'models', 'model.onnx')\n",
        "\n",
        "if not os.path.exists(os.path.dirname(model_save_path)):\n",
        "    os.makedirs(os.path.dirname(model_save_path))\n",
        "\n",
        "dummy_input = torch.randn(1, 60, 1).to(device)\n",
        "\n",
        "torch.onnx.export(\n",
        "    model,                            # The model to be exported\n",
        "    dummy_input,                      # Dummy input for tracing\n",
        "    model_save_path,                  # File path where the ONNX model will be saved\n",
        "    export_params=True,               # Store the trained parameter weights\n",
        "    opset_version=11,                 # ONNX version (11 is widely compatible)\n",
        "    input_names=['input'],            # Name for the model's input\n",
        "    output_names=['output'],          # Name for the model's output\n",
        "    dynamic_axes={'input': {0: 'batch_size'}, 'output': {0: 'batch_size'}}  # Allow variable batch sizes\n",
        ")\n",
        "\n",
        "\n",
        "print(f'Model saved to {os.path.abspath(model_save_path)}')\n",
        "\n",
        "files.download(model_save_path)\n"
      ],
      "metadata": {
        "colab": {
          "base_uri": "https://localhost:8080/",
          "height": 91
        },
        "id": "ZjJbr5NAT6NI",
        "outputId": "f23e376f-d3de-4f66-ecf4-939bd64ee463"
      },
      "execution_count": null,
      "outputs": [
        {
          "output_type": "stream",
          "name": "stdout",
          "text": [
            "Model saved to /content/models/model.onnx\n"
          ]
        },
        {
          "output_type": "stream",
          "name": "stderr",
          "text": [
            "/usr/local/lib/python3.10/dist-packages/torch/onnx/symbolic_opset9.py:4545: UserWarning: Exporting a model to ONNX with a batch_size other than 1, with a variable length with LSTM can cause an error when running the ONNX model with a different batch size. Make sure to save the model with a batch size of 1, or define the initial states (h0/c0) as inputs of the model. \n",
            "  warnings.warn(\n"
          ]
        },
        {
          "output_type": "display_data",
          "data": {
            "text/plain": [
              "<IPython.core.display.Javascript object>"
            ],
            "application/javascript": [
              "\n",
              "    async function download(id, filename, size) {\n",
              "      if (!google.colab.kernel.accessAllowed) {\n",
              "        return;\n",
              "      }\n",
              "      const div = document.createElement('div');\n",
              "      const label = document.createElement('label');\n",
              "      label.textContent = `Downloading \"${filename}\": `;\n",
              "      div.appendChild(label);\n",
              "      const progress = document.createElement('progress');\n",
              "      progress.max = size;\n",
              "      div.appendChild(progress);\n",
              "      document.body.appendChild(div);\n",
              "\n",
              "      const buffers = [];\n",
              "      let downloaded = 0;\n",
              "\n",
              "      const channel = await google.colab.kernel.comms.open(id);\n",
              "      // Send a message to notify the kernel that we're ready.\n",
              "      channel.send({})\n",
              "\n",
              "      for await (const message of channel.messages) {\n",
              "        // Send a message to notify the kernel that we're ready.\n",
              "        channel.send({})\n",
              "        if (message.buffers) {\n",
              "          for (const buffer of message.buffers) {\n",
              "            buffers.push(buffer);\n",
              "            downloaded += buffer.byteLength;\n",
              "            progress.value = downloaded;\n",
              "          }\n",
              "        }\n",
              "      }\n",
              "      const blob = new Blob(buffers, {type: 'application/binary'});\n",
              "      const a = document.createElement('a');\n",
              "      a.href = window.URL.createObjectURL(blob);\n",
              "      a.download = filename;\n",
              "      div.appendChild(a);\n",
              "      a.click();\n",
              "      div.remove();\n",
              "    }\n",
              "  "
            ]
          },
          "metadata": {}
        },
        {
          "output_type": "display_data",
          "data": {
            "text/plain": [
              "<IPython.core.display.Javascript object>"
            ],
            "application/javascript": [
              "download(\"download_627d958d-28e4-41ab-b310-e60e13ed5b6c\", \"model.onnx\", 166932)"
            ]
          },
          "metadata": {}
        }
      ]
    },
    {
      "cell_type": "markdown",
      "source": [
        "https://colab.research.google.com/drive/1h-k7tYz3rnY2kCE7-4CI6OshZKVKNGzJ"
      ],
      "metadata": {
        "id": "_uhBCfnY1DIX"
      }
    }
  ]
}